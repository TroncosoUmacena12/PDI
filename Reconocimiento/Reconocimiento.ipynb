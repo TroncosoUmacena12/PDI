{
 "cells": [
  {
   "cell_type": "markdown",
   "id": "0813881e",
   "metadata": {},
   "source": [
    "RECONOCIMIENTO TOMA DE IMAGENES PARTE 1"
   ]
  },
  {
   "cell_type": "code",
   "execution_count": null,
   "id": "37254e99",
   "metadata": {},
   "outputs": [],
   "source": [
    "import cv2\n",
    "import os\n",
    "\n",
    "nombre = \"nombre_de_persona\"\n",
    "ruta = f'dataset/{nombre}'\n",
    "os.makedirs(ruta, exist_ok=True)\n",
    "\n",
    "# Dirección del video stream del celular\n",
    "url = \"http://10.176.207.223:8080/video\"\n",
    "cap = cv2.VideoCapture(url)\n",
    "\n",
    "face_cascada = cv2.CascadeClassifier(cv2.data.haarcascades + 'haarcascade_frontalface_default.xml')\n",
    "\n",
    "cont = 0 \n",
    "while True:\n",
    "    retrato, frame = cap.read()\n",
    "    if not retrato:\n",
    "        break     \n",
    "    gray = cv2.cvtColor(frame, cv2.COLOR_BGR2GRAY)\n",
    "    faces = face_cascada.detectMultiScale(gray, 1.3, 5)\n",
    "\n",
    "    for (x, y, w, h) in faces:\n",
    "        rostro = gray[y:y+h, x:x+w]  # corregido\n",
    "        cv2.imwrite(f'{ruta}/{cont}.jpg', rostro)\n",
    "        cont += 1\n",
    "\n",
    "        cv2.rectangle(frame, (x, y), (x+w, y+h), (255, 0, 0), 2)\n",
    "\n",
    "    cv2.imshow('captura', frame)\n",
    "    if cv2.waitKey(1) == 27 or cont > 20:  \n",
    "        break\n",
    "\n",
    "cap.release()\n",
    "cv2.destroyAllWindows()\n"
   ]
  },
  {
   "cell_type": "code",
   "execution_count": null,
   "id": "18490b94",
   "metadata": {},
   "outputs": [],
   "source": []
  },
  {
   "cell_type": "code",
   "execution_count": null,
   "id": "e0dcb3ae",
   "metadata": {},
   "outputs": [],
   "source": []
  },
  {
   "cell_type": "code",
   "execution_count": null,
   "id": "04f8ae64",
   "metadata": {},
   "outputs": [],
   "source": [
    "import cv2\n",
    "import os\n",
    "\n",
    "import cv2.data \n",
    "#\n",
    "nombre = \"nombre_de_persona\"\n",
    "ruta = f'dataset/{nombre}'\n",
    "os.makedirs(ruta, exist_ok=True)\n",
    "cap = cv2.VideoCapture(0)  \n",
    "face_cascada = cv2.CascadeClassifier(cv2.data.haarcascades + 'harcascade_frontalface_default.xml')\n",
    "\n",
    "cont = 0 \n",
    "while True :\n",
    "    retrato, frame = cap.read()\n",
    "    if not retrato:\n",
    "        break\n",
    "    gray = cv2.cvtColor(frame, cv2.COLOR_BGR2GRAY)\n",
    "    face =  face_cascada.detectMultiScale(gray, 1.3, 5)\n",
    "\n",
    "    for (x,y,w,h) in face:\n",
    "        rostro = gray[y:y-h, x:x-w] \n",
    "        cv2.imwrite(f'{ruta}/{cont}.jpg', rostro)\n",
    "        cont+=1\n",
    "\n",
    "        cv2.rectangle(frame,{x,y},{x+w, y+h},{255,0,0},2)\n",
    "    cv2.imshow('captura', frame)\n",
    "    if cv2.waitKey(1)==27 or cont>20:\n",
    "        break\n",
    "    cap.release()\n",
    "    cv2.destroyAllWindows()"
   ]
  }
 ],
 "metadata": {
  "kernelspec": {
   "display_name": "Practica",
   "language": "python",
   "name": "python3"
  },
  "language_info": {
   "codemirror_mode": {
    "name": "ipython",
    "version": 3
   },
   "file_extension": ".py",
   "mimetype": "text/x-python",
   "name": "python",
   "nbconvert_exporter": "python",
   "pygments_lexer": "ipython3",
   "version": "3.13.3"
  }
 },
 "nbformat": 4,
 "nbformat_minor": 5
}
