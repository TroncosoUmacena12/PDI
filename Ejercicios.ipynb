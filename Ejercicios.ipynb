{
 "cells": [
  {
   "cell_type": "markdown",
   "metadata": {},
   "source": [
    "Ejercicio 1\n",
    "Datos de prueva:\n",
    "5 => 120\n",
    "1 => 1\n",
    "0 => 1 \n",
    "9 => 362880\n",
    "a => error"
   ]
  },
  {
   "cell_type": "code",
   "execution_count": null,
   "metadata": {},
   "outputs": [],
   "source": [
    "def factorial(n):\n",
    "    if n == 0 or n == 1:\n",
    "        return 1\n",
    "    else:\n",
    "        return n * factorial(n - 1)\n",
    "    \n",
    "try:\n",
    "    num = int(input(\"Intro. un numero: \"))\n",
    "    if num < 0:\n",
    "        print(\"El numero no puede ser negativo.\")\n",
    "    else:   \n",
    "        res = factorial(num)\n",
    "        print(f\"El factorial de {num} es = {res}\")\n",
    "        \n",
    "except ValueError:\n",
    "    print(\"Solo se aceptan numeros\")"
   ]
  },
  {
   "cell_type": "markdown",
   "metadata": {},
   "source": [
    "Ejercicio 2\n",
    "Datos de prueva:\n",
    "3 => primo\n",
    "33 => no primo\n",
    "41 => primo\n",
    "v => error"
   ]
  },
  {
   "cell_type": "code",
   "execution_count": 16,
   "metadata": {},
   "outputs": [
    {
     "name": "stdout",
     "output_type": "stream",
     "text": [
      "41 es primo.\n"
     ]
    }
   ],
   "source": [
    "def primos(n):\n",
    "    if n < 2:\n",
    "        return False\n",
    "    for i in range(2, int(n ** 0.5) + 1):\n",
    "        if n % i == 0:\n",
    "            return False\n",
    "    return True\n",
    "\n",
    "try:\n",
    "    num = int(input(\"Intro. un numero: \"))\n",
    "    if primos(num):\n",
    "        print(f\"{num} es primo.\")\n",
    "    else:\n",
    "        print(f\"{num} no es primo.\")\n",
    "\n",
    "except ValueError:\n",
    "    print(\"Solo se aceptan numeros enteros\")"
   ]
  },
  {
   "cell_type": "markdown",
   "metadata": {},
   "source": [
    "Ejercicio 3\n",
    "1 => minimo 3\n",
    "cantidad 4 : numeros 4 0 12 7 => mayor 12 y menor 0\n",
    "f => error "
   ]
  },
  {
   "cell_type": "code",
   "execution_count": 18,
   "metadata": {},
   "outputs": [
    {
     "name": "stdout",
     "output_type": "stream",
     "text": [
      "Num. mayor =12 Num. menor = 0\n"
     ]
    }
   ],
   "source": [
    "try:\n",
    "    cantidad = int(input(\"Intro. la cantidad de numeros: \"))\n",
    "    if cantidad < 3:\n",
    "        print(\"La cantidad deber ser minimo 3 o mas\")\n",
    "\n",
    "    else:\n",
    "        numeros = []\n",
    "        for i in range(cantidad):\n",
    "            num = int(input(\"Intro. un numero: \"))\n",
    "            numeros.append(num)\n",
    "        mayor = max(numeros)\n",
    "        menor = min(numeros)\n",
    "        print(f\"Num. mayor ={mayor} Num. menor = {menor}\")\n",
    "          \n",
    "\n",
    "except ValueError:\n",
    "    print(\"Solo se aceptan numeros enteros\")"
   ]
  },
  {
   "cell_type": "markdown",
   "metadata": {},
   "source": [
    "Ejercicio 4\n",
    "ojo => palindromo\n",
    "robo => no es palindromo\n",
    "121 => palindromo"
   ]
  },
  {
   "cell_type": "code",
   "execution_count": 21,
   "metadata": {},
   "outputs": [
    {
     "name": "stdout",
     "output_type": "stream",
     "text": [
      "es un palíndromo.\n"
     ]
    }
   ],
   "source": [
    "def palindromo(cad):\n",
    "    return cad == cad[::-1]\n",
    "\n",
    "palabra = input(\"Intro, una palabra: \")\n",
    "\n",
    "if palindromo(palabra):\n",
    "    print(\"es un palíndromo.\")\n",
    "else:\n",
    "    print(\"no es un palíndromo.\")\n"
   ]
  }
 ],
 "metadata": {
  "kernelspec": {
   "display_name": "Practica",
   "language": "python",
   "name": "python3"
  },
  "language_info": {
   "codemirror_mode": {
    "name": "ipython",
    "version": 3
   },
   "file_extension": ".py",
   "mimetype": "text/x-python",
   "name": "python",
   "nbconvert_exporter": "python",
   "pygments_lexer": "ipython3",
   "version": "3.13.3"
  }
 },
 "nbformat": 4,
 "nbformat_minor": 2
}
