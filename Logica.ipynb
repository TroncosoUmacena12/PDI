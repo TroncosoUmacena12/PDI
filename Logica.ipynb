{
 "cells": [
  {
   "cell_type": "markdown",
   "metadata": {},
   "source": [
    "EJERCICIO1"
   ]
  },
  {
   "cell_type": "code",
   "execution_count": null,
   "metadata": {},
   "outputs": [],
   "source": [
    "import numpy as np"
   ]
  },
  {
   "cell_type": "code",
   "execution_count": 6,
   "metadata": {},
   "outputs": [
    {
     "name": "stdout",
     "output_type": "stream",
     "text": [
      "Solo se aceptan numeros\n"
     ]
    }
   ],
   "source": [
    "def factorial(n):\n",
    "    if n == 0 or n == 1:\n",
    "        return 1\n",
    "    else:\n",
    "        return n * factorial(n - 1)\n",
    "    \n",
    "try:\n",
    "    num = int(input(\"Intro. un numero: \"))\n",
    "    if num < 0:\n",
    "        print(\"El numero no puede ser negativo.\")\n",
    "    else:\n",
    "        res = factorial(num)\n",
    "        print(f\"El factorial de {num} es = {res}\")\n",
    "        \n",
    "except ValueError:\n",
    "    print(\"Solo se aceptan numeros\")"
   ]
  }
 ],
 "metadata": {
  "kernelspec": {
   "display_name": "Practica",
   "language": "python",
   "name": "python3"
  },
  "language_info": {
   "codemirror_mode": {
    "name": "ipython",
    "version": 3
   },
   "file_extension": ".py",
   "mimetype": "text/x-python",
   "name": "python",
   "nbconvert_exporter": "python",
   "pygments_lexer": "ipython3",
   "version": "3.13.3"
  }
 },
 "nbformat": 4,
 "nbformat_minor": 2
}
